{
 "cells": [
  {
   "cell_type": "code",
   "execution_count": 1,
   "metadata": {},
   "outputs": [],
   "source": [
    "%load_ext autoreload\n",
    "%autoreload 2"
   ]
  },
  {
   "cell_type": "code",
   "execution_count": 2,
   "metadata": {},
   "outputs": [
    {
     "name": "stderr",
     "output_type": "stream",
     "text": [
      "/usr/local/lib/python3.11/site-packages/tqdm/auto.py:21: TqdmWarning: IProgress not found. Please update jupyter and ipywidgets. See https://ipywidgets.readthedocs.io/en/stable/user_install.html\n",
      "  from .autonotebook import tqdm as notebook_tqdm\n"
     ]
    }
   ],
   "source": [
    "import mlflow\n",
    "import optax\n",
    "import polars as pl\n",
    "from flax import nnx\n",
    "from flax_trainer.trainer import Trainer\n",
    "from sklearn.model_selection import train_test_split\n",
    "\n",
    "from flax_recsys.encoder import SequentialEncoder\n",
    "from flax_recsys.evaluator import SequentialEvaluator\n",
    "from flax_recsys.loader import SequentialLoader\n",
    "from flax_recsys.loss_fn import cross_entropy_loss\n",
    "from flax_recsys.model import GRU4Rec"
   ]
  },
  {
   "cell_type": "markdown",
   "metadata": {},
   "source": [
    "### READ"
   ]
  },
  {
   "cell_type": "code",
   "execution_count": 3,
   "metadata": {},
   "outputs": [
    {
     "data": {
      "text/html": [
       "<div><style>\n",
       ".dataframe > thead > tr,\n",
       ".dataframe > tbody > tr {\n",
       "  text-align: right;\n",
       "  white-space: pre-wrap;\n",
       "}\n",
       "</style>\n",
       "<small>shape: (89_047, 4)</small><table border=\"1\" class=\"dataframe\"><thead><tr><th>prev_items</th><th>next_item</th><th>locale</th><th>item_ids</th></tr><tr><td>list[str]</td><td>str</td><td>str</td><td>list[str]</td></tr></thead><tbody><tr><td>[&quot;B08MV5B53K&quot;, &quot;B08MV4RCQR&quot;, &quot;B08MV5B53K&quot;]</td><td>&quot;B012408XPC&quot;</td><td>&quot;ES&quot;</td><td>[&quot;B08MV5B53K&quot;, &quot;B08MV4RCQR&quot;, … &quot;B012408XPC&quot;]</td></tr><tr><td>[&quot;B07JGW4QWX&quot;, &quot;B085VCXHXL&quot;]</td><td>&quot;B07JFPYN5P&quot;</td><td>&quot;ES&quot;</td><td>[&quot;B07JGW4QWX&quot;, &quot;B085VCXHXL&quot;, &quot;B07JFPYN5P&quot;]</td></tr><tr><td>[&quot;B08BFQ52PR&quot;, &quot;B08LVSTZVF&quot;, &quot;B08BFQ52PR&quot;]</td><td>&quot;B08NJP3KT6&quot;</td><td>&quot;ES&quot;</td><td>[&quot;B08BFQ52PR&quot;, &quot;B08LVSTZVF&quot;, … &quot;B08NJP3KT6&quot;]</td></tr><tr><td>[&quot;B08PPBF9C6&quot;, &quot;B08PPBF9C6&quot;, … &quot;B08PPBF9C6&quot;]</td><td>&quot;B08PP6BLLK&quot;</td><td>&quot;ES&quot;</td><td>[&quot;B08PPBF9C6&quot;, &quot;B08PPBF9C6&quot;, … &quot;B08PP6BLLK&quot;]</td></tr><tr><td>[&quot;B0B6W67XCR&quot;, &quot;B0B712FY2M&quot;, &quot;B0B6ZYJ3S2&quot;]</td><td>&quot;B09SL4MBM2&quot;</td><td>&quot;ES&quot;</td><td>[&quot;B0B6W67XCR&quot;, &quot;B0B712FY2M&quot;, … &quot;B09SL4MBM2&quot;]</td></tr><tr><td>&hellip;</td><td>&hellip;</td><td>&hellip;</td><td>&hellip;</td></tr><tr><td>[&quot;B08LR8CH7S&quot;, &quot;B00CWKFYES&quot;]</td><td>&quot;B00C2U6794&quot;</td><td>&quot;ES&quot;</td><td>[&quot;B08LR8CH7S&quot;, &quot;B00CWKFYES&quot;, &quot;B00C2U6794&quot;]</td></tr><tr><td>[&quot;B08KH2MTSS&quot;, &quot;B08KJP91X2&quot;]</td><td>&quot;B0BGYMJM5S&quot;</td><td>&quot;ES&quot;</td><td>[&quot;B08KH2MTSS&quot;, &quot;B08KJP91X2&quot;, &quot;B0BGYMJM5S&quot;]</td></tr><tr><td>[&quot;B09ZV92J5P&quot;, &quot;B06ZY1MXNG&quot;, &quot;B07W6NS1VC&quot;]</td><td>&quot;B09TDTC96J&quot;</td><td>&quot;ES&quot;</td><td>[&quot;B09ZV92J5P&quot;, &quot;B06ZY1MXNG&quot;, … &quot;B09TDTC96J&quot;]</td></tr><tr><td>[&quot;B08V6Q3V25&quot;, &quot;B08V6Q3V25&quot;, &quot;B09D7MPCDH&quot;]</td><td>&quot;B09D7CXVJZ&quot;</td><td>&quot;ES&quot;</td><td>[&quot;B08V6Q3V25&quot;, &quot;B08V6Q3V25&quot;, … &quot;B09D7CXVJZ&quot;]</td></tr><tr><td>[&quot;B08CP8ZD6D&quot;, &quot;B08CPTLN6R&quot;, … &quot;B08CPTLN6R&quot;]</td><td>&quot;B006ZZ7OWQ&quot;</td><td>&quot;ES&quot;</td><td>[&quot;B08CP8ZD6D&quot;, &quot;B08CPTLN6R&quot;, … &quot;B006ZZ7OWQ&quot;]</td></tr></tbody></table></div>"
      ],
      "text/plain": [
       "shape: (89_047, 4)\n",
       "┌─────────────────────────────────┬────────────┬────────┬─────────────────────────────────┐\n",
       "│ prev_items                      ┆ next_item  ┆ locale ┆ item_ids                        │\n",
       "│ ---                             ┆ ---        ┆ ---    ┆ ---                             │\n",
       "│ list[str]                       ┆ str        ┆ str    ┆ list[str]                       │\n",
       "╞═════════════════════════════════╪════════════╪════════╪═════════════════════════════════╡\n",
       "│ [\"B08MV5B53K\", \"B08MV4RCQR\", \"… ┆ B012408XPC ┆ ES     ┆ [\"B08MV5B53K\", \"B08MV4RCQR\", …… │\n",
       "│ [\"B07JGW4QWX\", \"B085VCXHXL\"]    ┆ B07JFPYN5P ┆ ES     ┆ [\"B07JGW4QWX\", \"B085VCXHXL\", \"… │\n",
       "│ [\"B08BFQ52PR\", \"B08LVSTZVF\", \"… ┆ B08NJP3KT6 ┆ ES     ┆ [\"B08BFQ52PR\", \"B08LVSTZVF\", …… │\n",
       "│ [\"B08PPBF9C6\", \"B08PPBF9C6\", …… ┆ B08PP6BLLK ┆ ES     ┆ [\"B08PPBF9C6\", \"B08PPBF9C6\", …… │\n",
       "│ [\"B0B6W67XCR\", \"B0B712FY2M\", \"… ┆ B09SL4MBM2 ┆ ES     ┆ [\"B0B6W67XCR\", \"B0B712FY2M\", …… │\n",
       "│ …                               ┆ …          ┆ …      ┆ …                               │\n",
       "│ [\"B08LR8CH7S\", \"B00CWKFYES\"]    ┆ B00C2U6794 ┆ ES     ┆ [\"B08LR8CH7S\", \"B00CWKFYES\", \"… │\n",
       "│ [\"B08KH2MTSS\", \"B08KJP91X2\"]    ┆ B0BGYMJM5S ┆ ES     ┆ [\"B08KH2MTSS\", \"B08KJP91X2\", \"… │\n",
       "│ [\"B09ZV92J5P\", \"B06ZY1MXNG\", \"… ┆ B09TDTC96J ┆ ES     ┆ [\"B09ZV92J5P\", \"B06ZY1MXNG\", …… │\n",
       "│ [\"B08V6Q3V25\", \"B08V6Q3V25\", \"… ┆ B09D7CXVJZ ┆ ES     ┆ [\"B08V6Q3V25\", \"B08V6Q3V25\", …… │\n",
       "│ [\"B08CP8ZD6D\", \"B08CPTLN6R\", …… ┆ B006ZZ7OWQ ┆ ES     ┆ [\"B08CP8ZD6D\", \"B08CPTLN6R\", …… │\n",
       "└─────────────────────────────────┴────────────┴────────┴─────────────────────────────────┘"
      ]
     },
     "metadata": {},
     "output_type": "display_data"
    },
    {
     "data": {
      "text/plain": [
       "<flax_recsys.encoder.sequential_encoder.SequentialEncoder at 0xffff44378f90>"
      ]
     },
     "execution_count": 3,
     "metadata": {},
     "output_type": "execute_result"
    }
   ],
   "source": [
    "dataset_df = (\n",
    "    pl.read_csv(\"/workspace/dataset/amazon-m2/sessions_train.csv\")\n",
    "    .filter(pl.col(\"locale\") == \"ES\")\n",
    "    .with_columns(\n",
    "        pl.col(\"prev_items\")\n",
    "        .str.split(by=\"'\")\n",
    "        .list.eval(pl.element().filter(pl.arange(0, pl.len()) % 2 == 1))\n",
    "    )\n",
    "    .with_columns(\n",
    "        pl.concat_list(pl.col(\"prev_items\"), pl.col(\"next_item\")).alias(\"item_ids\")\n",
    "    )\n",
    ")\n",
    "display(dataset_df)\n",
    "\n",
    "train_df, valid_df = train_test_split(\n",
    "    dataset_df, test_size=0.1, random_state=0, shuffle=True\n",
    ")\n",
    "\n",
    "encoder = SequentialEncoder()\n",
    "encoder.fit(train_df.get_column(\"item_ids\").to_list())"
   ]
  },
  {
   "cell_type": "code",
   "execution_count": 4,
   "metadata": {},
   "outputs": [
    {
     "name": "stderr",
     "output_type": "stream",
     "text": [
      "                                                                      \r"
     ]
    }
   ],
   "source": [
    "batch_size = 512\n",
    "\n",
    "loader = SequentialLoader(\n",
    "    sequences=train_df.get_column(\"item_ids\").to_list(),\n",
    "    encoder=encoder,\n",
    "    batch_size=batch_size,\n",
    "    rngs=nnx.Rngs(0),\n",
    ")\n",
    "\n",
    "evaluator = SequentialEvaluator(\n",
    "    sequences=valid_df.get_column(\"item_ids\").to_list(),\n",
    "    encoder=encoder,\n",
    "    batch_size=batch_size,\n",
    ")"
   ]
  },
  {
   "cell_type": "markdown",
   "metadata": {},
   "source": [
    "### 学習"
   ]
  },
  {
   "cell_type": "code",
   "execution_count": 5,
   "metadata": {},
   "outputs": [],
   "source": [
    "model = GRU4Rec(\n",
    "    item_num=encoder.item_num + 1,\n",
    "    embed_dim=30,\n",
    "    gru_layer_dims=[30],\n",
    "    ff_layer_dims=[30],\n",
    "    output_layer_dim=encoder.item_num + 1,\n",
    "    rngs=nnx.Rngs(0),\n",
    "    max_batch_size=batch_size,\n",
    ")"
   ]
  },
  {
   "cell_type": "code",
   "execution_count": 6,
   "metadata": {},
   "outputs": [
    {
     "name": "stderr",
     "output_type": "stream",
     "text": [
      "100%|██████████| 113/113 [00:04<00:00, 23.84it/s]\n"
     ]
    },
    {
     "name": "stdout",
     "output_type": "stream",
     "text": [
      "[VALID 000]: loss=10.621649742126465, metrics={'hit_10': 0.0002447680744808167, 'cross_entropy': 10.621649742126465}\n"
     ]
    },
    {
     "name": "stderr",
     "output_type": "stream",
     "text": [
      "[TRAIN 001]: 100%|██████████| 599/599 [00:35<00:00, 17.01it/s, batch_loss=9.884598]  \n",
      "100%|██████████| 113/113 [00:04<00:00, 25.46it/s]\n"
     ]
    },
    {
     "name": "stdout",
     "output_type": "stream",
     "text": [
      "[VALID 001]: loss=9.517483711242676, metrics={'hit_10': 0.050758782774209976, 'cross_entropy': 9.517483711242676}\n"
     ]
    },
    {
     "name": "stderr",
     "output_type": "stream",
     "text": [
      "[TRAIN 002]: 100%|██████████| 588/588 [00:33<00:00, 17.50it/s, batch_loss=8.924423] \n",
      "100%|██████████| 113/113 [00:04<00:00, 24.80it/s]\n"
     ]
    },
    {
     "name": "stdout",
     "output_type": "stream",
     "text": [
      "[VALID 002]: loss=8.884390830993652, metrics={'hit_10': 0.15555012226104736, 'cross_entropy': 8.884390830993652}\n"
     ]
    },
    {
     "name": "stderr",
     "output_type": "stream",
     "text": [
      "[TRAIN 003]: 100%|██████████| 590/590 [00:32<00:00, 18.12it/s, batch_loss=8.225981] \n",
      "100%|██████████| 113/113 [00:04<00:00, 25.59it/s]\n"
     ]
    },
    {
     "name": "stdout",
     "output_type": "stream",
     "text": [
      "[VALID 003]: loss=8.407713890075684, metrics={'hit_10': 0.24663443863391876, 'cross_entropy': 8.407713890075684}\n"
     ]
    },
    {
     "name": "stderr",
     "output_type": "stream",
     "text": [
      "[TRAIN 004]: 100%|██████████| 591/591 [00:32<00:00, 18.21it/s, batch_loss=7.440843] \n",
      "100%|██████████| 113/113 [00:04<00:00, 25.45it/s]\n"
     ]
    },
    {
     "name": "stdout",
     "output_type": "stream",
     "text": [
      "[VALID 004]: loss=8.096561431884766, metrics={'hit_10': 0.31467998027801514, 'cross_entropy': 8.096561431884766}\n"
     ]
    },
    {
     "name": "stderr",
     "output_type": "stream",
     "text": [
      "[TRAIN 005]: 100%|██████████| 591/591 [00:33<00:00, 17.90it/s, batch_loss=6.855351] \n",
      "100%|██████████| 113/113 [00:04<00:00, 24.85it/s]\n"
     ]
    },
    {
     "name": "stdout",
     "output_type": "stream",
     "text": [
      "[VALID 005]: loss=7.9163641929626465, metrics={'hit_10': 0.36323583126068115, 'cross_entropy': 7.9163641929626465}\n"
     ]
    },
    {
     "name": "stderr",
     "output_type": "stream",
     "text": [
      "[TRAIN 006]: 100%|██████████| 603/603 [00:33<00:00, 18.01it/s, batch_loss=6.28156]   \n",
      "100%|██████████| 113/113 [00:04<00:00, 26.13it/s]\n"
     ]
    },
    {
     "name": "stdout",
     "output_type": "stream",
     "text": [
      "[VALID 006]: loss=7.780933380126953, metrics={'hit_10': 0.3998592495918274, 'cross_entropy': 7.780933380126953}\n"
     ]
    },
    {
     "name": "stderr",
     "output_type": "stream",
     "text": [
      "[TRAIN 007]: 100%|██████████| 592/592 [00:32<00:00, 18.14it/s, batch_loss=5.903362]  \n",
      "100%|██████████| 113/113 [00:04<00:00, 24.24it/s]\n"
     ]
    },
    {
     "name": "stdout",
     "output_type": "stream",
     "text": [
      "[VALID 007]: loss=7.708841323852539, metrics={'hit_10': 0.4261106252670288, 'cross_entropy': 7.708841323852539}\n"
     ]
    },
    {
     "name": "stderr",
     "output_type": "stream",
     "text": [
      "[TRAIN 008]: 100%|██████████| 592/592 [00:33<00:00, 17.91it/s, batch_loss=5.716528]  \n",
      "100%|██████████| 113/113 [00:04<00:00, 25.13it/s]\n"
     ]
    },
    {
     "name": "stdout",
     "output_type": "stream",
     "text": [
      "[VALID 008]: loss=7.684292316436768, metrics={'hit_10': 0.4444376528263092, 'cross_entropy': 7.684292316436768}\n"
     ]
    },
    {
     "name": "stderr",
     "output_type": "stream",
     "text": [
      "[TRAIN 009]: 100%|██████████| 596/596 [00:34<00:00, 17.42it/s, batch_loss=5.0491924] \n",
      "100%|██████████| 113/113 [00:04<00:00, 24.75it/s]\n"
     ]
    },
    {
     "name": "stdout",
     "output_type": "stream",
     "text": [
      "[VALID 009]: loss=7.677452564239502, metrics={'hit_10': 0.4584506154060364, 'cross_entropy': 7.677452564239502}\n"
     ]
    },
    {
     "name": "stderr",
     "output_type": "stream",
     "text": [
      "[TRAIN 010]: 100%|██████████| 605/605 [00:33<00:00, 18.05it/s, batch_loss=5.187661]   \n",
      "100%|██████████| 113/113 [00:04<00:00, 24.49it/s]\n"
     ]
    },
    {
     "name": "stdout",
     "output_type": "stream",
     "text": [
      "[VALID 010]: loss=7.679049968719482, metrics={'hit_10': 0.4694957733154297, 'cross_entropy': 7.679049968719482}\n"
     ]
    },
    {
     "name": "stderr",
     "output_type": "stream",
     "text": [
      "[TRAIN 011]: 100%|██████████| 603/603 [00:37<00:00, 16.21it/s, batch_loss=4.755828]    \n",
      "100%|██████████| 113/113 [00:04<00:00, 23.67it/s]\n"
     ]
    },
    {
     "name": "stdout",
     "output_type": "stream",
     "text": [
      "[VALID 011]: loss=7.7042236328125, metrics={'hit_10': 0.47803205251693726, 'cross_entropy': 7.7042236328125}\n"
     ]
    },
    {
     "name": "stderr",
     "output_type": "stream",
     "text": [
      "[TRAIN 012]: 100%|██████████| 600/600 [00:34<00:00, 17.23it/s, batch_loss=4.5527043]  \n",
      "100%|██████████| 113/113 [00:04<00:00, 25.09it/s]\n"
     ]
    },
    {
     "name": "stdout",
     "output_type": "stream",
     "text": [
      "[VALID 012]: loss=7.729147911071777, metrics={'hit_10': 0.48595643043518066, 'cross_entropy': 7.729147911071777}\n"
     ]
    },
    {
     "name": "stderr",
     "output_type": "stream",
     "text": [
      "[TRAIN 013]: 100%|██████████| 593/593 [00:34<00:00, 17.13it/s, batch_loss=4.4096193] \n",
      "100%|██████████| 113/113 [00:04<00:00, 24.59it/s]\n"
     ]
    },
    {
     "name": "stdout",
     "output_type": "stream",
     "text": [
      "[VALID 013]: loss=7.756795406341553, metrics={'hit_10': 0.49020928144454956, 'cross_entropy': 7.756795406341553}\n"
     ]
    },
    {
     "name": "stderr",
     "output_type": "stream",
     "text": [
      "[TRAIN 014]: 100%|██████████| 592/592 [00:34<00:00, 17.16it/s, batch_loss=4.4204063] \n",
      "100%|██████████| 113/113 [00:04<00:00, 24.23it/s]\n"
     ]
    },
    {
     "name": "stdout",
     "output_type": "stream",
     "text": [
      "[VALID 014]: loss=7.781134605407715, metrics={'hit_10': 0.4946456849575043, 'cross_entropy': 7.781134605407715}\n"
     ]
    },
    {
     "name": "stderr",
     "output_type": "stream",
     "text": [
      "[TRAIN 015]: 100%|██████████| 590/590 [00:34<00:00, 16.96it/s, batch_loss=3.9354303]\n",
      "100%|██████████| 113/113 [00:04<00:00, 25.03it/s]\n"
     ]
    },
    {
     "name": "stdout",
     "output_type": "stream",
     "text": [
      "[VALID 015]: loss=7.809829235076904, metrics={'hit_10': 0.49957165122032166, 'cross_entropy': 7.809829235076904}\n"
     ]
    },
    {
     "name": "stderr",
     "output_type": "stream",
     "text": [
      "[TRAIN 016]: 100%|██████████| 593/593 [00:34<00:00, 17.01it/s, batch_loss=3.8762136] \n",
      "100%|██████████| 113/113 [00:04<00:00, 24.48it/s]\n"
     ]
    },
    {
     "name": "stdout",
     "output_type": "stream",
     "text": [
      "[VALID 016]: loss=7.852991104125977, metrics={'hit_10': 0.5014685988426208, 'cross_entropy': 7.852991104125977}\n"
     ]
    },
    {
     "name": "stderr",
     "output_type": "stream",
     "text": [
      "[TRAIN 017]: 100%|██████████| 595/595 [00:35<00:00, 16.79it/s, batch_loss=3.6959248] \n",
      "100%|██████████| 113/113 [00:04<00:00, 23.71it/s]\n"
     ]
    },
    {
     "name": "stdout",
     "output_type": "stream",
     "text": [
      "[VALID 017]: loss=7.873661041259766, metrics={'hit_10': 0.5046811699867249, 'cross_entropy': 7.873661041259766}\n"
     ]
    },
    {
     "name": "stderr",
     "output_type": "stream",
     "text": [
      "[TRAIN 018]: 100%|██████████| 599/599 [00:35<00:00, 16.65it/s, batch_loss=3.6972241]  \n",
      "100%|██████████| 113/113 [00:04<00:00, 25.41it/s]\n"
     ]
    },
    {
     "name": "stdout",
     "output_type": "stream",
     "text": [
      "[VALID 018]: loss=7.906472682952881, metrics={'hit_10': 0.5063333511352539, 'cross_entropy': 7.906472682952881}\n"
     ]
    },
    {
     "name": "stderr",
     "output_type": "stream",
     "text": [
      "[TRAIN 019]: 100%|██████████| 588/588 [00:35<00:00, 16.59it/s, batch_loss=3.409321] \n",
      "100%|██████████| 113/113 [00:04<00:00, 24.33it/s]\n"
     ]
    },
    {
     "name": "stdout",
     "output_type": "stream",
     "text": [
      "[VALID 019]: loss=7.932363033294678, metrics={'hit_10': 0.5087810754776001, 'cross_entropy': 7.932363033294678}\n",
      "🏃 View run unique-koi-969 at: http://localhost:8080/#/experiments/756717060270598937/runs/e6a5d809a8ff4f3ebba70b75d481ca49\n",
      "🧪 View experiment at: http://localhost:8080/#/experiments/756717060270598937\n"
     ]
    }
   ],
   "source": [
    "mlflow.set_tracking_uri(uri=\"http://localhost:8080\")\n",
    "mlflow.set_experiment(\"GRU4Rec\")\n",
    "\n",
    "with mlflow.start_run() as run:\n",
    "    trainer = Trainer(\n",
    "        model=model,\n",
    "        optimizer=optax.adamw(learning_rate=0.001, weight_decay=0.001),\n",
    "        train_loader=loader,\n",
    "        loss_fn=cross_entropy_loss,\n",
    "        valid_evaluator=evaluator,\n",
    "        early_stopping_patience=10,\n",
    "        epoch_num=32,\n",
    "        active_run=run,\n",
    "    )\n",
    "    trainer = trainer.fit()"
   ]
  }
 ],
 "metadata": {
  "kernelspec": {
   "display_name": "Python 3",
   "language": "python",
   "name": "python3"
  },
  "language_info": {
   "codemirror_mode": {
    "name": "ipython",
    "version": 3
   },
   "file_extension": ".py",
   "mimetype": "text/x-python",
   "name": "python",
   "nbconvert_exporter": "python",
   "pygments_lexer": "ipython3",
   "version": "3.11.11"
  }
 },
 "nbformat": 4,
 "nbformat_minor": 2
}
