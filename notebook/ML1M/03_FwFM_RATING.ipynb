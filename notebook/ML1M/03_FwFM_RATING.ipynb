{
 "cells": [
  {
   "cell_type": "code",
   "execution_count": 1,
   "metadata": {},
   "outputs": [],
   "source": [
    "import mlflow\n",
    "import optax\n",
    "import pandas as pd\n",
    "import polars as pl\n",
    "from flax import nnx\n",
    "from flax_trainer.loss_fn import mean_squared_error\n",
    "from flax_trainer.trainer import Trainer\n",
    "from sklearn.model_selection import train_test_split\n",
    "\n",
    "from flax_recsys.encoder import ColumnEncoder\n",
    "from flax_recsys.evaluator import GeneralRatingEvaluator\n",
    "from flax_recsys.loader import GeneralRatingLoader\n",
    "from flax_recsys.model.FwFM import FwFM"
   ]
  },
  {
   "cell_type": "markdown",
   "metadata": {},
   "source": [
    "### READ"
   ]
  },
  {
   "cell_type": "code",
   "execution_count": 2,
   "metadata": {},
   "outputs": [
    {
     "data": {
      "text/html": [
       "<div><style>\n",
       ".dataframe > thead > tr,\n",
       ".dataframe > tbody > tr {\n",
       "  text-align: right;\n",
       "  white-space: pre-wrap;\n",
       "}\n",
       "</style>\n",
       "<small>shape: (1_000_209, 9)</small><table border=\"1\" class=\"dataframe\"><thead><tr><th>user_id</th><th>item_id</th><th>timestamp</th><th>title</th><th>gender</th><th>age</th><th>occupation</th><th>zip_code</th><th>rating</th></tr><tr><td>u32</td><td>u32</td><td>u32</td><td>u32</td><td>u32</td><td>u32</td><td>u32</td><td>u32</td><td>i64</td></tr></thead><tbody><tr><td>0</td><td>1104</td><td>397442</td><td>2452</td><td>0</td><td>0</td><td>10</td><td>1588</td><td>5</td></tr><tr><td>0</td><td>639</td><td>397457</td><td>1739</td><td>0</td><td>0</td><td>10</td><td>1588</td><td>3</td></tr><tr><td>0</td><td>853</td><td>397454</td><td>2289</td><td>0</td><td>0</td><td>10</td><td>1588</td><td>3</td></tr><tr><td>0</td><td>3177</td><td>397440</td><td>1054</td><td>0</td><td>0</td><td>10</td><td>1588</td><td>4</td></tr><tr><td>0</td><td>2162</td><td>400250</td><td>557</td><td>0</td><td>0</td><td>10</td><td>1588</td><td>5</td></tr><tr><td>&hellip;</td><td>&hellip;</td><td>&hellip;</td><td>&hellip;</td><td>&hellip;</td><td>&hellip;</td><td>&hellip;</td><td>&hellip;</td><td>&hellip;</td></tr><tr><td>6039</td><td>1019</td><td>382</td><td>3574</td><td>1</td><td>2</td><td>6</td><td>466</td><td>1</td></tr><tr><td>6039</td><td>1022</td><td>21</td><td>814</td><td>1</td><td>2</td><td>6</td><td>466</td><td>5</td></tr><tr><td>6039</td><td>548</td><td>17</td><td>3578</td><td>1</td><td>2</td><td>6</td><td>466</td><td>5</td></tr><tr><td>6039</td><td>1024</td><td>346</td><td>3090</td><td>1</td><td>2</td><td>6</td><td>466</td><td>4</td></tr><tr><td>6039</td><td>1025</td><td>343</td><td>1007</td><td>1</td><td>2</td><td>6</td><td>466</td><td>4</td></tr></tbody></table></div>"
      ],
      "text/plain": [
       "shape: (1_000_209, 9)\n",
       "┌─────────┬─────────┬───────────┬───────┬───┬─────┬────────────┬──────────┬────────┐\n",
       "│ user_id ┆ item_id ┆ timestamp ┆ title ┆ … ┆ age ┆ occupation ┆ zip_code ┆ rating │\n",
       "│ ---     ┆ ---     ┆ ---       ┆ ---   ┆   ┆ --- ┆ ---        ┆ ---      ┆ ---    │\n",
       "│ u32     ┆ u32     ┆ u32       ┆ u32   ┆   ┆ u32 ┆ u32        ┆ u32      ┆ i64    │\n",
       "╞═════════╪═════════╪═══════════╪═══════╪═══╪═════╪════════════╪══════════╪════════╡\n",
       "│ 0       ┆ 1104    ┆ 397442    ┆ 2452  ┆ … ┆ 0   ┆ 10         ┆ 1588     ┆ 5      │\n",
       "│ 0       ┆ 639     ┆ 397457    ┆ 1739  ┆ … ┆ 0   ┆ 10         ┆ 1588     ┆ 3      │\n",
       "│ 0       ┆ 853     ┆ 397454    ┆ 2289  ┆ … ┆ 0   ┆ 10         ┆ 1588     ┆ 3      │\n",
       "│ 0       ┆ 3177    ┆ 397440    ┆ 1054  ┆ … ┆ 0   ┆ 10         ┆ 1588     ┆ 4      │\n",
       "│ 0       ┆ 2162    ┆ 400250    ┆ 557   ┆ … ┆ 0   ┆ 10         ┆ 1588     ┆ 5      │\n",
       "│ …       ┆ …       ┆ …         ┆ …     ┆ … ┆ …   ┆ …          ┆ …        ┆ …      │\n",
       "│ 6039    ┆ 1019    ┆ 382       ┆ 3574  ┆ … ┆ 2   ┆ 6          ┆ 466      ┆ 1      │\n",
       "│ 6039    ┆ 1022    ┆ 21        ┆ 814   ┆ … ┆ 2   ┆ 6          ┆ 466      ┆ 5      │\n",
       "│ 6039    ┆ 548     ┆ 17        ┆ 3578  ┆ … ┆ 2   ┆ 6          ┆ 466      ┆ 5      │\n",
       "│ 6039    ┆ 1024    ┆ 346       ┆ 3090  ┆ … ┆ 2   ┆ 6          ┆ 466      ┆ 4      │\n",
       "│ 6039    ┆ 1025    ┆ 343       ┆ 1007  ┆ … ┆ 2   ┆ 6          ┆ 466      ┆ 4      │\n",
       "└─────────┴─────────┴───────────┴───────┴───┴─────┴────────────┴──────────┴────────┘"
      ]
     },
     "metadata": {},
     "output_type": "display_data"
    }
   ],
   "source": [
    "rating_df, movie_df, user_df = (\n",
    "    pl.from_pandas(\n",
    "        pd.read_csv(\n",
    "            \"../../dataset/ML1M/ml-1m/ratings.dat\",\n",
    "            delimiter=\"::\",\n",
    "            engine=\"python\",\n",
    "            header=None,\n",
    "            names=[\"user_id\", \"item_id\", \"rating\", \"timestamp\"],\n",
    "        )\n",
    "    ),\n",
    "    pl.from_pandas(\n",
    "        pd.read_csv(\n",
    "            \"../../dataset/ML1M/ml-1m/movies.dat\",\n",
    "            delimiter=\"::\",\n",
    "            engine=\"python\",\n",
    "            header=None,\n",
    "            names=[\"item_id\", \"title\", \"genres\"],\n",
    "            encoding=\"ISO-8859-1\",\n",
    "        )\n",
    "    ).with_columns(pl.col(\"genres\").str.split(\"|\")),\n",
    "    pl.from_pandas(\n",
    "        pd.read_csv(\n",
    "            \"../../dataset/ML1M/ml-1m/users.dat\",\n",
    "            delimiter=\"::\",\n",
    "            engine=\"python\",\n",
    "            header=None,\n",
    "            names=[\"user_id\", \"gender\", \"age\", \"occupation\", \"zip_code\"],\n",
    "            # encoding=\"ISO-8859-1\",\n",
    "        )\n",
    "    ),\n",
    ")\n",
    "\n",
    "dataset_df = (\n",
    "    rating_df.join(movie_df, how=\"left\", on=\"item_id\")\n",
    "    .join(user_df, how=\"left\", on=\"user_id\")\n",
    "    .select(pl.all().exclude(\"rating\", \"genres\"), pl.col(\"rating\"))\n",
    "    .with_columns(pl.all().exclude(\"rating\").rank(\"dense\") - 1)\n",
    ")\n",
    "display(dataset_df)\n",
    "\n",
    "column_encoder = ColumnEncoder(\n",
    "    user_id=\"user_id\",\n",
    "    item_id=\"item_id\",\n",
    "    timestamp=\"timestamp\",\n",
    "    one_hot=[\"title\", \"gender\", \"age\", \"occupation\", \"zip_code\"],\n",
    "    rating=\"rating\",\n",
    ")\n",
    "\n",
    "train_df, valid_df = train_test_split(\n",
    "    dataset_df, test_size=0.1, random_state=0, shuffle=True\n",
    ")"
   ]
  },
  {
   "cell_type": "code",
   "execution_count": 3,
   "metadata": {},
   "outputs": [],
   "source": [
    "categorical_X, numerical_X, y = column_encoder.fit_transform(train_df)\n",
    "loader = GeneralRatingLoader(\n",
    "    categorical_X=categorical_X,\n",
    "    numerical_X=numerical_X,\n",
    "    y=y,\n",
    "    batch_size=512,\n",
    "    rngs=nnx.Rngs(0),\n",
    ")\n",
    "\n",
    "categorical_X, numerical_X, y = column_encoder.transform(valid_df)\n",
    "evaluator = GeneralRatingEvaluator(\n",
    "    categorical_X=categorical_X, numerical_X=numerical_X, y=y\n",
    ")"
   ]
  },
  {
   "cell_type": "markdown",
   "metadata": {},
   "source": [
    "### 学習"
   ]
  },
  {
   "cell_type": "code",
   "execution_count": 4,
   "metadata": {},
   "outputs": [],
   "source": [
    "model = FwFM(\n",
    "    categorical_feature_cardinalities=list(column_encoder.cardinality_map.values()),\n",
    "    numerical_feature_num=column_encoder.numerical_column_num,\n",
    "    embed_dim=30,\n",
    "    rngs=nnx.Rngs(0),\n",
    ")"
   ]
  },
  {
   "cell_type": "code",
   "execution_count": 5,
   "metadata": {},
   "outputs": [
    {
     "name": "stdout",
     "output_type": "stream",
     "text": [
      "[VALID 000]: loss=30.17424964904785, metrics={'mse': 30.17424964904785}\n"
     ]
    },
    {
     "name": "stderr",
     "output_type": "stream",
     "text": [
      "[TRAIN 001]: 100%|██████████| 1759/1759 [00:09<00:00, 182.99it/s, batch_loss=0.87051815]\n"
     ]
    },
    {
     "name": "stdout",
     "output_type": "stream",
     "text": [
      "[VALID 001]: loss=0.9123357534408569, metrics={'mse': 0.9123357534408569}\n"
     ]
    },
    {
     "name": "stderr",
     "output_type": "stream",
     "text": [
      "[TRAIN 002]: 100%|██████████| 1759/1759 [00:09<00:00, 175.98it/s, batch_loss=0.9984347] \n"
     ]
    },
    {
     "name": "stdout",
     "output_type": "stream",
     "text": [
      "[VALID 002]: loss=0.8667045831680298, metrics={'mse': 0.8667045831680298}\n"
     ]
    },
    {
     "name": "stderr",
     "output_type": "stream",
     "text": [
      "[TRAIN 003]: 100%|██████████| 1759/1759 [00:10<00:00, 160.86it/s, batch_loss=0.7116962] \n"
     ]
    },
    {
     "name": "stdout",
     "output_type": "stream",
     "text": [
      "[VALID 003]: loss=0.8626285791397095, metrics={'mse': 0.8626285791397095}\n"
     ]
    },
    {
     "name": "stderr",
     "output_type": "stream",
     "text": [
      "[TRAIN 004]: 100%|██████████| 1759/1759 [00:09<00:00, 177.92it/s, batch_loss=0.71589833]\n"
     ]
    },
    {
     "name": "stdout",
     "output_type": "stream",
     "text": [
      "[VALID 004]: loss=0.8584514856338501, metrics={'mse': 0.8584514856338501}\n"
     ]
    },
    {
     "name": "stderr",
     "output_type": "stream",
     "text": [
      "[TRAIN 005]: 100%|██████████| 1759/1759 [00:10<00:00, 165.26it/s, batch_loss=0.77232915]\n"
     ]
    },
    {
     "name": "stdout",
     "output_type": "stream",
     "text": [
      "[VALID 005]: loss=0.8590362668037415, metrics={'mse': 0.8590362668037415}\n"
     ]
    },
    {
     "name": "stderr",
     "output_type": "stream",
     "text": [
      "[TRAIN 006]: 100%|██████████| 1759/1759 [00:10<00:00, 166.75it/s, batch_loss=0.59617615]\n"
     ]
    },
    {
     "name": "stdout",
     "output_type": "stream",
     "text": [
      "[VALID 006]: loss=0.8544833660125732, metrics={'mse': 0.8544833660125732}\n"
     ]
    },
    {
     "name": "stderr",
     "output_type": "stream",
     "text": [
      "[TRAIN 007]: 100%|██████████| 1759/1759 [00:10<00:00, 164.47it/s, batch_loss=0.7209101] \n"
     ]
    },
    {
     "name": "stdout",
     "output_type": "stream",
     "text": [
      "[VALID 007]: loss=0.8528735637664795, metrics={'mse': 0.8528735637664795}\n"
     ]
    },
    {
     "name": "stderr",
     "output_type": "stream",
     "text": [
      "[TRAIN 008]: 100%|██████████| 1759/1759 [00:10<00:00, 160.62it/s, batch_loss=1.0805565] \n"
     ]
    },
    {
     "name": "stdout",
     "output_type": "stream",
     "text": [
      "[VALID 008]: loss=0.8486641645431519, metrics={'mse': 0.8486641645431519}\n"
     ]
    },
    {
     "name": "stderr",
     "output_type": "stream",
     "text": [
      "[TRAIN 009]: 100%|██████████| 1759/1759 [00:11<00:00, 159.29it/s, batch_loss=0.6669211] \n"
     ]
    },
    {
     "name": "stdout",
     "output_type": "stream",
     "text": [
      "[VALID 009]: loss=0.8476921319961548, metrics={'mse': 0.8476921319961548}\n"
     ]
    },
    {
     "name": "stderr",
     "output_type": "stream",
     "text": [
      "[TRAIN 010]: 100%|██████████| 1759/1759 [00:10<00:00, 170.73it/s, batch_loss=0.62571836]\n"
     ]
    },
    {
     "name": "stdout",
     "output_type": "stream",
     "text": [
      "[VALID 010]: loss=0.8533954620361328, metrics={'mse': 0.8533954620361328}\n"
     ]
    },
    {
     "name": "stderr",
     "output_type": "stream",
     "text": [
      "[TRAIN 011]: 100%|██████████| 1759/1759 [00:10<00:00, 168.82it/s, batch_loss=0.76019]   \n"
     ]
    },
    {
     "name": "stdout",
     "output_type": "stream",
     "text": [
      "[VALID 011]: loss=0.8536626100540161, metrics={'mse': 0.8536626100540161}\n"
     ]
    },
    {
     "name": "stderr",
     "output_type": "stream",
     "text": [
      "[TRAIN 012]: 100%|██████████| 1759/1759 [00:10<00:00, 168.05it/s, batch_loss=0.5222816] \n"
     ]
    },
    {
     "name": "stdout",
     "output_type": "stream",
     "text": [
      "[VALID 012]: loss=0.8560672998428345, metrics={'mse': 0.8560672998428345}\n"
     ]
    },
    {
     "name": "stderr",
     "output_type": "stream",
     "text": [
      "[TRAIN 013]: 100%|██████████| 1759/1759 [00:10<00:00, 167.33it/s, batch_loss=0.6611078] \n"
     ]
    },
    {
     "name": "stdout",
     "output_type": "stream",
     "text": [
      "[VALID 013]: loss=0.8589900135993958, metrics={'mse': 0.8589900135993958}\n"
     ]
    },
    {
     "name": "stderr",
     "output_type": "stream",
     "text": [
      "[TRAIN 014]: 100%|██████████| 1759/1759 [00:10<00:00, 167.62it/s, batch_loss=0.7329082] \n"
     ]
    },
    {
     "name": "stdout",
     "output_type": "stream",
     "text": [
      "[VALID 014]: loss=0.8635580539703369, metrics={'mse': 0.8635580539703369}\n"
     ]
    },
    {
     "name": "stderr",
     "output_type": "stream",
     "text": [
      "[TRAIN 015]: 100%|██████████| 1759/1759 [00:11<00:00, 157.42it/s, batch_loss=0.44422102]\n"
     ]
    },
    {
     "name": "stdout",
     "output_type": "stream",
     "text": [
      "[VALID 015]: loss=0.8688892126083374, metrics={'mse': 0.8688892126083374}\n"
     ]
    },
    {
     "name": "stderr",
     "output_type": "stream",
     "text": [
      "[TRAIN 016]: 100%|██████████| 1759/1759 [00:11<00:00, 154.85it/s, batch_loss=0.6724228] \n"
     ]
    },
    {
     "name": "stdout",
     "output_type": "stream",
     "text": [
      "[VALID 016]: loss=0.8756545186042786, metrics={'mse': 0.8756545186042786}\n"
     ]
    },
    {
     "name": "stderr",
     "output_type": "stream",
     "text": [
      "[TRAIN 017]: 100%|██████████| 1759/1759 [00:10<00:00, 165.37it/s, batch_loss=0.4715739] \n"
     ]
    },
    {
     "name": "stdout",
     "output_type": "stream",
     "text": [
      "[VALID 017]: loss=0.8814161419868469, metrics={'mse': 0.8814161419868469}\n"
     ]
    },
    {
     "name": "stderr",
     "output_type": "stream",
     "text": [
      "[TRAIN 018]: 100%|██████████| 1759/1759 [00:11<00:00, 158.92it/s, batch_loss=0.5783349] \n"
     ]
    },
    {
     "name": "stdout",
     "output_type": "stream",
     "text": [
      "[VALID 018]: loss=0.8919109106063843, metrics={'mse': 0.8919109106063843}\n"
     ]
    },
    {
     "name": "stderr",
     "output_type": "stream",
     "text": [
      "[TRAIN 019]: 100%|██████████| 1759/1759 [00:07<00:00, 229.70it/s, batch_loss=0.4435718] \n"
     ]
    },
    {
     "name": "stdout",
     "output_type": "stream",
     "text": [
      "[VALID 019]: loss=0.8996073603630066, metrics={'mse': 0.8996073603630066}\n",
      "🏃 View run bright-ox-408 at: http://localhost:8080/#/experiments/313596797375609562/runs/4c2f7aaf160d44e1a29dd9aa7a386aaf\n",
      "🧪 View experiment at: http://localhost:8080/#/experiments/313596797375609562\n"
     ]
    }
   ],
   "source": [
    "mlflow.set_tracking_uri(uri=\"http://localhost:8080\")\n",
    "mlflow.set_experiment(\"FwFM_RATING\")\n",
    "\n",
    "with mlflow.start_run() as run:\n",
    "    trainer = Trainer(\n",
    "        model=model,\n",
    "        optimizer=optax.adamw(learning_rate=0.001, weight_decay=0.001),\n",
    "        train_loader=loader,\n",
    "        loss_fn=mean_squared_error,\n",
    "        valid_evaluator=evaluator,\n",
    "        early_stopping_patience=10,\n",
    "        epoch_num=64,\n",
    "        active_run=run,\n",
    "    )\n",
    "    trainer = trainer.fit()"
   ]
  }
 ],
 "metadata": {
  "kernelspec": {
   "display_name": "Python 3",
   "language": "python",
   "name": "python3"
  },
  "language_info": {
   "codemirror_mode": {
    "name": "ipython",
    "version": 3
   },
   "file_extension": ".py",
   "mimetype": "text/x-python",
   "name": "python",
   "nbconvert_exporter": "python",
   "pygments_lexer": "ipython3",
   "version": "3.11.11"
  }
 },
 "nbformat": 4,
 "nbformat_minor": 2
}
