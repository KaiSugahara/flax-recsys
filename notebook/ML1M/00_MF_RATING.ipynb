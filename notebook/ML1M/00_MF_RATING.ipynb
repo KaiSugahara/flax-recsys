{
 "cells": [
  {
   "cell_type": "code",
   "execution_count": 1,
   "metadata": {},
   "outputs": [],
   "source": [
    "import mlflow\n",
    "import optax\n",
    "import pandas as pd\n",
    "import polars as pl\n",
    "from flax import nnx\n",
    "from flax_trainer.loss_fn import mean_squared_error\n",
    "from flax_trainer.trainer import Trainer\n",
    "from sklearn.model_selection import train_test_split\n",
    "\n",
    "from flax_recsys.encoder import ColumnEncoder\n",
    "from flax_recsys.evaluator import GeneralRatingEvaluator\n",
    "from flax_recsys.loader import GeneralRatingLoader\n",
    "from flax_recsys.model.FM import FM"
   ]
  },
  {
   "cell_type": "markdown",
   "metadata": {},
   "source": [
    "### READ"
   ]
  },
  {
   "cell_type": "code",
   "execution_count": 2,
   "metadata": {},
   "outputs": [
    {
     "data": {
      "text/html": [
       "<div><style>\n",
       ".dataframe > thead > tr,\n",
       ".dataframe > tbody > tr {\n",
       "  text-align: right;\n",
       "  white-space: pre-wrap;\n",
       "}\n",
       "</style>\n",
       "<small>shape: (1_000_209, 4)</small><table border=\"1\" class=\"dataframe\"><thead><tr><th>user_id</th><th>item_id</th><th>rating</th><th>timestamp</th></tr><tr><td>i64</td><td>i64</td><td>i64</td><td>i64</td></tr></thead><tbody><tr><td>1</td><td>1193</td><td>5</td><td>978300760</td></tr><tr><td>1</td><td>661</td><td>3</td><td>978302109</td></tr><tr><td>1</td><td>914</td><td>3</td><td>978301968</td></tr><tr><td>1</td><td>3408</td><td>4</td><td>978300275</td></tr><tr><td>1</td><td>2355</td><td>5</td><td>978824291</td></tr><tr><td>&hellip;</td><td>&hellip;</td><td>&hellip;</td><td>&hellip;</td></tr><tr><td>6040</td><td>1091</td><td>1</td><td>956716541</td></tr><tr><td>6040</td><td>1094</td><td>5</td><td>956704887</td></tr><tr><td>6040</td><td>562</td><td>5</td><td>956704746</td></tr><tr><td>6040</td><td>1096</td><td>4</td><td>956715648</td></tr><tr><td>6040</td><td>1097</td><td>4</td><td>956715569</td></tr></tbody></table></div>"
      ],
      "text/plain": [
       "shape: (1_000_209, 4)\n",
       "┌─────────┬─────────┬────────┬───────────┐\n",
       "│ user_id ┆ item_id ┆ rating ┆ timestamp │\n",
       "│ ---     ┆ ---     ┆ ---    ┆ ---       │\n",
       "│ i64     ┆ i64     ┆ i64    ┆ i64       │\n",
       "╞═════════╪═════════╪════════╪═══════════╡\n",
       "│ 1       ┆ 1193    ┆ 5      ┆ 978300760 │\n",
       "│ 1       ┆ 661     ┆ 3      ┆ 978302109 │\n",
       "│ 1       ┆ 914     ┆ 3      ┆ 978301968 │\n",
       "│ 1       ┆ 3408    ┆ 4      ┆ 978300275 │\n",
       "│ 1       ┆ 2355    ┆ 5      ┆ 978824291 │\n",
       "│ …       ┆ …       ┆ …      ┆ …         │\n",
       "│ 6040    ┆ 1091    ┆ 1      ┆ 956716541 │\n",
       "│ 6040    ┆ 1094    ┆ 5      ┆ 956704887 │\n",
       "│ 6040    ┆ 562     ┆ 5      ┆ 956704746 │\n",
       "│ 6040    ┆ 1096    ┆ 4      ┆ 956715648 │\n",
       "│ 6040    ┆ 1097    ┆ 4      ┆ 956715569 │\n",
       "└─────────┴─────────┴────────┴───────────┘"
      ]
     },
     "metadata": {},
     "output_type": "display_data"
    }
   ],
   "source": [
    "dataset_df = pl.from_pandas(\n",
    "    pd.read_csv(\n",
    "        \"../../dataset/ML1M/ml-1m/ratings.dat\",\n",
    "        delimiter=\"::\",\n",
    "        engine=\"python\",\n",
    "        header=None,\n",
    "        names=[\"user_id\", \"item_id\", \"rating\", \"timestamp\"],\n",
    "    )\n",
    ")\n",
    "display(dataset_df)\n",
    "\n",
    "column_encoder = ColumnEncoder(\n",
    "    user_id=\"user_id\",\n",
    "    item_id=\"item_id\",\n",
    "    rating=\"rating\",\n",
    ")\n",
    "\n",
    "train_df, valid_df = train_test_split(\n",
    "    dataset_df, test_size=0.1, random_state=0, shuffle=True\n",
    ")"
   ]
  },
  {
   "cell_type": "code",
   "execution_count": 3,
   "metadata": {},
   "outputs": [],
   "source": [
    "categorical_X, numerical_X, y = column_encoder.fit_transform(train_df)\n",
    "loader = GeneralRatingLoader(\n",
    "    categorical_X=categorical_X,\n",
    "    numerical_X=numerical_X,\n",
    "    y=y,\n",
    "    batch_size=512,\n",
    "    rngs=nnx.Rngs(0),\n",
    ")\n",
    "\n",
    "categorical_X, numerical_X, y = column_encoder.transform(valid_df)\n",
    "evaluator = GeneralRatingEvaluator(\n",
    "    categorical_X=categorical_X, numerical_X=numerical_X, y=y\n",
    ")"
   ]
  },
  {
   "cell_type": "markdown",
   "metadata": {},
   "source": [
    "### 学習"
   ]
  },
  {
   "cell_type": "code",
   "execution_count": 4,
   "metadata": {},
   "outputs": [],
   "source": [
    "model = FM(\n",
    "    categorical_feature_cardinalities=list(column_encoder.cardinality_map.values()),\n",
    "    numerical_feature_num=column_encoder.numerical_column_num,\n",
    "    embed_dim=30,\n",
    "    rngs=nnx.Rngs(0),\n",
    ")"
   ]
  },
  {
   "cell_type": "code",
   "execution_count": 5,
   "metadata": {},
   "outputs": [
    {
     "name": "stdout",
     "output_type": "stream",
     "text": [
      "[VALID 000]: loss=12.460426330566406, metrics={'mse': 12.460426330566406}\n"
     ]
    },
    {
     "name": "stderr",
     "output_type": "stream",
     "text": [
      "[TRAIN 001]: 100%|██████████| 1759/1759 [00:03<00:00, 519.32it/s, batch_loss=2.9505997]\n"
     ]
    },
    {
     "name": "stdout",
     "output_type": "stream",
     "text": [
      "[VALID 001]: loss=2.994792938232422, metrics={'mse': 2.994792938232422}\n"
     ]
    },
    {
     "name": "stderr",
     "output_type": "stream",
     "text": [
      "[TRAIN 002]: 100%|██████████| 1759/1759 [00:03<00:00, 498.22it/s, batch_loss=1.4715427]\n"
     ]
    },
    {
     "name": "stdout",
     "output_type": "stream",
     "text": [
      "[VALID 002]: loss=1.2534188032150269, metrics={'mse': 1.2534188032150269}\n"
     ]
    },
    {
     "name": "stderr",
     "output_type": "stream",
     "text": [
      "[TRAIN 003]: 100%|██████████| 1759/1759 [00:03<00:00, 458.82it/s, batch_loss=0.7310248] \n"
     ]
    },
    {
     "name": "stdout",
     "output_type": "stream",
     "text": [
      "[VALID 003]: loss=0.929356038570404, metrics={'mse': 0.929356038570404}\n"
     ]
    },
    {
     "name": "stderr",
     "output_type": "stream",
     "text": [
      "[TRAIN 004]: 100%|██████████| 1759/1759 [00:03<00:00, 496.58it/s, batch_loss=0.6395217] \n"
     ]
    },
    {
     "name": "stdout",
     "output_type": "stream",
     "text": [
      "[VALID 004]: loss=0.8532370924949646, metrics={'mse': 0.8532370924949646}\n"
     ]
    },
    {
     "name": "stderr",
     "output_type": "stream",
     "text": [
      "[TRAIN 005]: 100%|██████████| 1759/1759 [00:03<00:00, 501.65it/s, batch_loss=0.67285424]\n"
     ]
    },
    {
     "name": "stdout",
     "output_type": "stream",
     "text": [
      "[VALID 005]: loss=0.8243317008018494, metrics={'mse': 0.8243317008018494}\n"
     ]
    },
    {
     "name": "stderr",
     "output_type": "stream",
     "text": [
      "[TRAIN 006]: 100%|██████████| 1759/1759 [00:03<00:00, 500.06it/s, batch_loss=0.52649516]\n"
     ]
    },
    {
     "name": "stdout",
     "output_type": "stream",
     "text": [
      "[VALID 006]: loss=0.8082016706466675, metrics={'mse': 0.8082016706466675}\n"
     ]
    },
    {
     "name": "stderr",
     "output_type": "stream",
     "text": [
      "[TRAIN 007]: 100%|██████████| 1759/1759 [00:03<00:00, 495.48it/s, batch_loss=0.592364]  \n"
     ]
    },
    {
     "name": "stdout",
     "output_type": "stream",
     "text": [
      "[VALID 007]: loss=0.8006784915924072, metrics={'mse': 0.8006784915924072}\n"
     ]
    },
    {
     "name": "stderr",
     "output_type": "stream",
     "text": [
      "[TRAIN 008]: 100%|██████████| 1759/1759 [00:03<00:00, 497.46it/s, batch_loss=0.81747013]\n"
     ]
    },
    {
     "name": "stdout",
     "output_type": "stream",
     "text": [
      "[VALID 008]: loss=0.798324704170227, metrics={'mse': 0.798324704170227}\n"
     ]
    },
    {
     "name": "stderr",
     "output_type": "stream",
     "text": [
      "[TRAIN 009]: 100%|██████████| 1759/1759 [00:03<00:00, 498.15it/s, batch_loss=0.5746051] \n"
     ]
    },
    {
     "name": "stdout",
     "output_type": "stream",
     "text": [
      "[VALID 009]: loss=0.800514817237854, metrics={'mse': 0.800514817237854}\n"
     ]
    },
    {
     "name": "stderr",
     "output_type": "stream",
     "text": [
      "[TRAIN 010]: 100%|██████████| 1759/1759 [00:03<00:00, 505.58it/s, batch_loss=0.7409642] \n"
     ]
    },
    {
     "name": "stdout",
     "output_type": "stream",
     "text": [
      "[VALID 010]: loss=0.804857075214386, metrics={'mse': 0.804857075214386}\n"
     ]
    },
    {
     "name": "stderr",
     "output_type": "stream",
     "text": [
      "[TRAIN 011]: 100%|██████████| 1759/1759 [00:03<00:00, 481.62it/s, batch_loss=0.7569204] \n"
     ]
    },
    {
     "name": "stdout",
     "output_type": "stream",
     "text": [
      "[VALID 011]: loss=0.8092218041419983, metrics={'mse': 0.8092218041419983}\n"
     ]
    },
    {
     "name": "stderr",
     "output_type": "stream",
     "text": [
      "[TRAIN 012]: 100%|██████████| 1759/1759 [00:03<00:00, 482.58it/s, batch_loss=0.45722502]\n"
     ]
    },
    {
     "name": "stdout",
     "output_type": "stream",
     "text": [
      "[VALID 012]: loss=0.8143149614334106, metrics={'mse': 0.8143149614334106}\n"
     ]
    },
    {
     "name": "stderr",
     "output_type": "stream",
     "text": [
      "[TRAIN 013]: 100%|██████████| 1759/1759 [00:03<00:00, 491.13it/s, batch_loss=0.5932075] \n"
     ]
    },
    {
     "name": "stdout",
     "output_type": "stream",
     "text": [
      "[VALID 013]: loss=0.8201317191123962, metrics={'mse': 0.8201317191123962}\n"
     ]
    },
    {
     "name": "stderr",
     "output_type": "stream",
     "text": [
      "[TRAIN 014]: 100%|██████████| 1759/1759 [00:03<00:00, 480.43it/s, batch_loss=0.64774686]\n"
     ]
    },
    {
     "name": "stdout",
     "output_type": "stream",
     "text": [
      "[VALID 014]: loss=0.8260868787765503, metrics={'mse': 0.8260868787765503}\n"
     ]
    },
    {
     "name": "stderr",
     "output_type": "stream",
     "text": [
      "[TRAIN 015]: 100%|██████████| 1759/1759 [00:03<00:00, 481.48it/s, batch_loss=0.46836382]\n"
     ]
    },
    {
     "name": "stdout",
     "output_type": "stream",
     "text": [
      "[VALID 015]: loss=0.8319261074066162, metrics={'mse': 0.8319261074066162}\n"
     ]
    },
    {
     "name": "stderr",
     "output_type": "stream",
     "text": [
      "[TRAIN 016]: 100%|██████████| 1759/1759 [00:03<00:00, 515.08it/s, batch_loss=0.62902176]\n"
     ]
    },
    {
     "name": "stdout",
     "output_type": "stream",
     "text": [
      "[VALID 016]: loss=0.8379749655723572, metrics={'mse': 0.8379749655723572}\n"
     ]
    },
    {
     "name": "stderr",
     "output_type": "stream",
     "text": [
      "[TRAIN 017]: 100%|██████████| 1759/1759 [00:03<00:00, 484.69it/s, batch_loss=0.50265884]\n"
     ]
    },
    {
     "name": "stdout",
     "output_type": "stream",
     "text": [
      "[VALID 017]: loss=0.8432089686393738, metrics={'mse': 0.8432089686393738}\n"
     ]
    },
    {
     "name": "stderr",
     "output_type": "stream",
     "text": [
      "[TRAIN 018]: 100%|██████████| 1759/1759 [00:03<00:00, 536.72it/s, batch_loss=0.44016466]\n"
     ]
    },
    {
     "name": "stdout",
     "output_type": "stream",
     "text": [
      "[VALID 018]: loss=0.8491826057434082, metrics={'mse': 0.8491826057434082}\n",
      "🏃 View run bemused-shoat-685 at: http://localhost:8080/#/experiments/538067800959619176/runs/23f06a24b4134db5af487b660b768459\n",
      "🧪 View experiment at: http://localhost:8080/#/experiments/538067800959619176\n"
     ]
    }
   ],
   "source": [
    "mlflow.set_tracking_uri(uri=\"http://localhost:8080\")\n",
    "mlflow.set_experiment(\"MF_RATING\")\n",
    "\n",
    "with mlflow.start_run() as run:\n",
    "    trainer = Trainer(\n",
    "        model=model,\n",
    "        optimizer=optax.adamw(learning_rate=0.001, weight_decay=0.001),\n",
    "        train_loader=loader,\n",
    "        loss_fn=mean_squared_error,\n",
    "        valid_evaluator=evaluator,\n",
    "        early_stopping_patience=10,\n",
    "        epoch_num=64,\n",
    "        active_run=run,\n",
    "    )\n",
    "    trainer = trainer.fit()"
   ]
  }
 ],
 "metadata": {
  "kernelspec": {
   "display_name": "Python 3",
   "language": "python",
   "name": "python3"
  },
  "language_info": {
   "codemirror_mode": {
    "name": "ipython",
    "version": 3
   },
   "file_extension": ".py",
   "mimetype": "text/x-python",
   "name": "python",
   "nbconvert_exporter": "python",
   "pygments_lexer": "ipython3",
   "version": "3.11.11"
  }
 },
 "nbformat": 4,
 "nbformat_minor": 2
}
