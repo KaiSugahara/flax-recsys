{
 "cells": [
  {
   "cell_type": "code",
   "execution_count": 1,
   "metadata": {},
   "outputs": [],
   "source": [
    "import pickle\n",
    "\n",
    "import jax\n",
    "import optax\n",
    "import pandas as pd\n",
    "import polars as pl\n",
    "from flax import nnx\n",
    "from flax_trainer.loss_fn import mean_squared_error\n",
    "from flax_trainer.trainer import Trainer\n",
    "from sklearn.model_selection import train_test_split\n",
    "\n",
    "from flax_recsys.encoder import ColumnEncoder\n",
    "from flax_recsys.evaluator import GeneralRatingEvaluator\n",
    "from flax_recsys.loader import GeneralRatingLoader\n",
    "from flax_recsys.model.DPLRFwFM import DPLRFwFM"
   ]
  },
  {
   "cell_type": "markdown",
   "metadata": {},
   "source": [
    "### READ"
   ]
  },
  {
   "cell_type": "code",
   "execution_count": 2,
   "metadata": {},
   "outputs": [
    {
     "data": {
      "text/html": [
       "<div><style>\n",
       ".dataframe > thead > tr,\n",
       ".dataframe > tbody > tr {\n",
       "  text-align: right;\n",
       "  white-space: pre-wrap;\n",
       "}\n",
       "</style>\n",
       "<small>shape: (1_000_209, 9)</small><table border=\"1\" class=\"dataframe\"><thead><tr><th>user_id</th><th>item_id</th><th>timestamp</th><th>title</th><th>gender</th><th>age</th><th>occupation</th><th>zip_code</th><th>rating</th></tr><tr><td>u32</td><td>u32</td><td>u32</td><td>u32</td><td>u32</td><td>u32</td><td>u32</td><td>u32</td><td>i64</td></tr></thead><tbody><tr><td>0</td><td>1104</td><td>397442</td><td>2452</td><td>0</td><td>0</td><td>10</td><td>1588</td><td>5</td></tr><tr><td>0</td><td>639</td><td>397457</td><td>1739</td><td>0</td><td>0</td><td>10</td><td>1588</td><td>3</td></tr><tr><td>0</td><td>853</td><td>397454</td><td>2289</td><td>0</td><td>0</td><td>10</td><td>1588</td><td>3</td></tr><tr><td>0</td><td>3177</td><td>397440</td><td>1054</td><td>0</td><td>0</td><td>10</td><td>1588</td><td>4</td></tr><tr><td>0</td><td>2162</td><td>400250</td><td>557</td><td>0</td><td>0</td><td>10</td><td>1588</td><td>5</td></tr><tr><td>&hellip;</td><td>&hellip;</td><td>&hellip;</td><td>&hellip;</td><td>&hellip;</td><td>&hellip;</td><td>&hellip;</td><td>&hellip;</td><td>&hellip;</td></tr><tr><td>6039</td><td>1019</td><td>382</td><td>3574</td><td>1</td><td>2</td><td>6</td><td>466</td><td>1</td></tr><tr><td>6039</td><td>1022</td><td>21</td><td>814</td><td>1</td><td>2</td><td>6</td><td>466</td><td>5</td></tr><tr><td>6039</td><td>548</td><td>17</td><td>3578</td><td>1</td><td>2</td><td>6</td><td>466</td><td>5</td></tr><tr><td>6039</td><td>1024</td><td>346</td><td>3090</td><td>1</td><td>2</td><td>6</td><td>466</td><td>4</td></tr><tr><td>6039</td><td>1025</td><td>343</td><td>1007</td><td>1</td><td>2</td><td>6</td><td>466</td><td>4</td></tr></tbody></table></div>"
      ],
      "text/plain": [
       "shape: (1_000_209, 9)\n",
       "┌─────────┬─────────┬───────────┬───────┬───┬─────┬────────────┬──────────┬────────┐\n",
       "│ user_id ┆ item_id ┆ timestamp ┆ title ┆ … ┆ age ┆ occupation ┆ zip_code ┆ rating │\n",
       "│ ---     ┆ ---     ┆ ---       ┆ ---   ┆   ┆ --- ┆ ---        ┆ ---      ┆ ---    │\n",
       "│ u32     ┆ u32     ┆ u32       ┆ u32   ┆   ┆ u32 ┆ u32        ┆ u32      ┆ i64    │\n",
       "╞═════════╪═════════╪═══════════╪═══════╪═══╪═════╪════════════╪══════════╪════════╡\n",
       "│ 0       ┆ 1104    ┆ 397442    ┆ 2452  ┆ … ┆ 0   ┆ 10         ┆ 1588     ┆ 5      │\n",
       "│ 0       ┆ 639     ┆ 397457    ┆ 1739  ┆ … ┆ 0   ┆ 10         ┆ 1588     ┆ 3      │\n",
       "│ 0       ┆ 853     ┆ 397454    ┆ 2289  ┆ … ┆ 0   ┆ 10         ┆ 1588     ┆ 3      │\n",
       "│ 0       ┆ 3177    ┆ 397440    ┆ 1054  ┆ … ┆ 0   ┆ 10         ┆ 1588     ┆ 4      │\n",
       "│ 0       ┆ 2162    ┆ 400250    ┆ 557   ┆ … ┆ 0   ┆ 10         ┆ 1588     ┆ 5      │\n",
       "│ …       ┆ …       ┆ …         ┆ …     ┆ … ┆ …   ┆ …          ┆ …        ┆ …      │\n",
       "│ 6039    ┆ 1019    ┆ 382       ┆ 3574  ┆ … ┆ 2   ┆ 6          ┆ 466      ┆ 1      │\n",
       "│ 6039    ┆ 1022    ┆ 21        ┆ 814   ┆ … ┆ 2   ┆ 6          ┆ 466      ┆ 5      │\n",
       "│ 6039    ┆ 548     ┆ 17        ┆ 3578  ┆ … ┆ 2   ┆ 6          ┆ 466      ┆ 5      │\n",
       "│ 6039    ┆ 1024    ┆ 346       ┆ 3090  ┆ … ┆ 2   ┆ 6          ┆ 466      ┆ 4      │\n",
       "│ 6039    ┆ 1025    ┆ 343       ┆ 1007  ┆ … ┆ 2   ┆ 6          ┆ 466      ┆ 4      │\n",
       "└─────────┴─────────┴───────────┴───────┴───┴─────┴────────────┴──────────┴────────┘"
      ]
     },
     "metadata": {},
     "output_type": "display_data"
    }
   ],
   "source": [
    "rating_df, movie_df, user_df = (\n",
    "    pl.from_pandas(\n",
    "        pd.read_csv(\n",
    "            \"../../dataset/ML1M/ml-1m/ratings.dat\",\n",
    "            delimiter=\"::\",\n",
    "            engine=\"python\",\n",
    "            header=None,\n",
    "            names=[\"user_id\", \"item_id\", \"rating\", \"timestamp\"],\n",
    "        )\n",
    "    ),\n",
    "    pl.from_pandas(\n",
    "        pd.read_csv(\n",
    "            \"../../dataset/ML1M/ml-1m/movies.dat\",\n",
    "            delimiter=\"::\",\n",
    "            engine=\"python\",\n",
    "            header=None,\n",
    "            names=[\"item_id\", \"title\", \"genres\"],\n",
    "            encoding=\"ISO-8859-1\",\n",
    "        )\n",
    "    ).with_columns(pl.col(\"genres\").str.split(\"|\")),\n",
    "    pl.from_pandas(\n",
    "        pd.read_csv(\n",
    "            \"../../dataset/ML1M/ml-1m/users.dat\",\n",
    "            delimiter=\"::\",\n",
    "            engine=\"python\",\n",
    "            header=None,\n",
    "            names=[\"user_id\", \"gender\", \"age\", \"occupation\", \"zip_code\"],\n",
    "            # encoding=\"ISO-8859-1\",\n",
    "        )\n",
    "    ),\n",
    ")\n",
    "\n",
    "dataset_df = (\n",
    "    rating_df.join(movie_df, how=\"left\", on=\"item_id\")\n",
    "    .join(user_df, how=\"left\", on=\"user_id\")\n",
    "    .select(pl.all().exclude(\"rating\", \"genres\"), pl.col(\"rating\"))\n",
    "    .with_columns(pl.all().exclude(\"rating\").rank(\"dense\") - 1)\n",
    ")\n",
    "display(dataset_df)\n",
    "\n",
    "column_encoder = ColumnEncoder(\n",
    "    user_id=\"user_id\",\n",
    "    item_id=\"item_id\",\n",
    "    timestamp=\"timestamp\",\n",
    "    one_hot=[\"title\", \"gender\", \"age\", \"occupation\", \"zip_code\"],\n",
    "    rating=\"rating\",\n",
    ")\n",
    "\n",
    "train_df, valid_df = train_test_split(\n",
    "    dataset_df, test_size=0.1, random_state=0, shuffle=True\n",
    ")"
   ]
  },
  {
   "cell_type": "code",
   "execution_count": 3,
   "metadata": {},
   "outputs": [],
   "source": [
    "categorical_X, numerical_X, y = column_encoder.fit_transform(train_df)\n",
    "loader = GeneralRatingLoader(\n",
    "    categorical_X=categorical_X,\n",
    "    numerical_X=numerical_X,\n",
    "    y=y,\n",
    "    batch_size=512,\n",
    "    rngs=nnx.Rngs(0),\n",
    ")\n",
    "\n",
    "categorical_X, numerical_X, y = column_encoder.transform(valid_df)\n",
    "evaluator = GeneralRatingEvaluator(\n",
    "    categorical_X=categorical_X, numerical_X=numerical_X, y=y\n",
    ")"
   ]
  },
  {
   "cell_type": "markdown",
   "metadata": {},
   "source": [
    "### 学習"
   ]
  },
  {
   "cell_type": "code",
   "execution_count": 4,
   "metadata": {},
   "outputs": [],
   "source": [
    "model = DPLRFwFM(\n",
    "    categorical_feature_cardinalities=list(column_encoder.cardinality_map.values()),\n",
    "    numerical_feature_num=column_encoder.numerical_column_num,\n",
    "    embed_dim=30,\n",
    "    rho=3,\n",
    "    rngs=nnx.Rngs(0),\n",
    ")"
   ]
  },
  {
   "cell_type": "code",
   "execution_count": 5,
   "metadata": {},
   "outputs": [
    {
     "name": "stdout",
     "output_type": "stream",
     "text": [
      "[TEST  000] loss=79.80770111083984\n"
     ]
    },
    {
     "name": "stderr",
     "output_type": "stream",
     "text": [
      "[TRAIN 001]: 100%|██████████| 1759/1759 [00:06<00:00, 273.01it/s, batch_loss=0.9553055] \n"
     ]
    },
    {
     "name": "stdout",
     "output_type": "stream",
     "text": [
      "[TEST  001] loss=1.0663902759552002\n"
     ]
    },
    {
     "name": "stderr",
     "output_type": "stream",
     "text": [
      "[TRAIN 002]: 100%|██████████| 1759/1759 [00:06<00:00, 280.78it/s, batch_loss=1.0358295] \n"
     ]
    },
    {
     "name": "stdout",
     "output_type": "stream",
     "text": [
      "[TEST  002] loss=0.8617352843284607\n"
     ]
    },
    {
     "name": "stderr",
     "output_type": "stream",
     "text": [
      "[TRAIN 003]: 100%|██████████| 1759/1759 [00:06<00:00, 283.78it/s, batch_loss=0.7073412] \n"
     ]
    },
    {
     "name": "stdout",
     "output_type": "stream",
     "text": [
      "[TEST  003] loss=0.8436973690986633\n"
     ]
    },
    {
     "name": "stderr",
     "output_type": "stream",
     "text": [
      "[TRAIN 004]: 100%|██████████| 1759/1759 [00:06<00:00, 283.92it/s, batch_loss=0.6688315] \n"
     ]
    },
    {
     "name": "stdout",
     "output_type": "stream",
     "text": [
      "[TEST  004] loss=0.8339711427688599\n"
     ]
    },
    {
     "name": "stderr",
     "output_type": "stream",
     "text": [
      "[TRAIN 005]: 100%|██████████| 1759/1759 [00:06<00:00, 286.72it/s, batch_loss=0.7168115] \n"
     ]
    },
    {
     "name": "stdout",
     "output_type": "stream",
     "text": [
      "[TEST  005] loss=0.8242194056510925\n"
     ]
    },
    {
     "name": "stderr",
     "output_type": "stream",
     "text": [
      "[TRAIN 006]: 100%|██████████| 1759/1759 [00:05<00:00, 296.32it/s, batch_loss=0.56539845]\n"
     ]
    },
    {
     "name": "stdout",
     "output_type": "stream",
     "text": [
      "[TEST  006] loss=0.811716616153717\n"
     ]
    },
    {
     "name": "stderr",
     "output_type": "stream",
     "text": [
      "[TRAIN 007]: 100%|██████████| 1759/1759 [00:06<00:00, 292.17it/s, batch_loss=0.6493333] \n"
     ]
    },
    {
     "name": "stdout",
     "output_type": "stream",
     "text": [
      "[TEST  007] loss=0.8061832785606384\n"
     ]
    },
    {
     "name": "stderr",
     "output_type": "stream",
     "text": [
      "[TRAIN 008]: 100%|██████████| 1759/1759 [00:06<00:00, 288.36it/s, batch_loss=0.92218494]\n"
     ]
    },
    {
     "name": "stdout",
     "output_type": "stream",
     "text": [
      "[TEST  008] loss=0.8108053803443909\n"
     ]
    },
    {
     "name": "stderr",
     "output_type": "stream",
     "text": [
      "[TRAIN 009]: 100%|██████████| 1759/1759 [00:06<00:00, 272.55it/s, batch_loss=0.654537]  \n"
     ]
    },
    {
     "name": "stdout",
     "output_type": "stream",
     "text": [
      "[TEST  009] loss=0.8127299547195435\n"
     ]
    },
    {
     "name": "stderr",
     "output_type": "stream",
     "text": [
      "[TRAIN 010]: 100%|██████████| 1759/1759 [00:06<00:00, 274.62it/s, batch_loss=0.72396827]\n"
     ]
    },
    {
     "name": "stdout",
     "output_type": "stream",
     "text": [
      "[TEST  010] loss=0.8180336952209473\n"
     ]
    },
    {
     "name": "stderr",
     "output_type": "stream",
     "text": [
      "[TRAIN 011]: 100%|██████████| 1759/1759 [00:06<00:00, 269.97it/s, batch_loss=0.7559954] \n"
     ]
    },
    {
     "name": "stdout",
     "output_type": "stream",
     "text": [
      "[TEST  011] loss=0.8219563364982605\n"
     ]
    },
    {
     "name": "stderr",
     "output_type": "stream",
     "text": [
      "[TRAIN 012]: 100%|██████████| 1759/1759 [00:06<00:00, 275.49it/s, batch_loss=0.5905463] \n"
     ]
    },
    {
     "name": "stdout",
     "output_type": "stream",
     "text": [
      "[TEST  012] loss=0.8249061703681946\n"
     ]
    },
    {
     "name": "stderr",
     "output_type": "stream",
     "text": [
      "[TRAIN 013]: 100%|██████████| 1759/1759 [00:06<00:00, 274.06it/s, batch_loss=0.6761055] \n"
     ]
    },
    {
     "name": "stdout",
     "output_type": "stream",
     "text": [
      "[TEST  013] loss=0.8311976790428162\n"
     ]
    },
    {
     "name": "stderr",
     "output_type": "stream",
     "text": [
      "[TRAIN 014]: 100%|██████████| 1759/1759 [00:06<00:00, 281.03it/s, batch_loss=0.6049273] \n"
     ]
    },
    {
     "name": "stdout",
     "output_type": "stream",
     "text": [
      "[TEST  014] loss=0.8330389857292175\n"
     ]
    },
    {
     "name": "stderr",
     "output_type": "stream",
     "text": [
      "[TRAIN 015]: 100%|██████████| 1759/1759 [00:06<00:00, 274.09it/s, batch_loss=0.49870542]\n"
     ]
    },
    {
     "name": "stdout",
     "output_type": "stream",
     "text": [
      "[TEST  015] loss=0.8406245112419128\n"
     ]
    },
    {
     "name": "stderr",
     "output_type": "stream",
     "text": [
      "[TRAIN 016]: 100%|██████████| 1759/1759 [00:06<00:00, 269.63it/s, batch_loss=0.60878026]\n"
     ]
    },
    {
     "name": "stdout",
     "output_type": "stream",
     "text": [
      "[TEST  016] loss=0.8426607251167297\n"
     ]
    },
    {
     "name": "stderr",
     "output_type": "stream",
     "text": [
      "[TRAIN 017]: 100%|██████████| 1759/1759 [00:06<00:00, 276.70it/s, batch_loss=0.44367683]\n"
     ]
    },
    {
     "name": "stdout",
     "output_type": "stream",
     "text": [
      "[TEST  017] loss=0.846129298210144\n"
     ]
    }
   ],
   "source": [
    "trainer = Trainer(\n",
    "    model=model,\n",
    "    optimizer=optax.adamw(learning_rate=0.001, weight_decay=0.001),\n",
    "    train_loader=loader,\n",
    "    loss_fn=mean_squared_error,\n",
    "    test_evaluator=evaluator,\n",
    "    early_stopping_patience=10,\n",
    "    epoch_num=64,\n",
    ")\n",
    "trainer = trainer.fit()"
   ]
  },
  {
   "cell_type": "code",
   "execution_count": 6,
   "metadata": {},
   "outputs": [],
   "source": [
    "with open(\"DPLRFwFM_RATING.pickle\", \"wb\") as f:\n",
    "    pickle.dump(jax.device_get(trainer.best_state_dict), f)"
   ]
  }
 ],
 "metadata": {
  "kernelspec": {
   "display_name": "flax-recsys-xS3fZVNL-py3.11",
   "language": "python",
   "name": "python3"
  },
  "language_info": {
   "codemirror_mode": {
    "name": "ipython",
    "version": 3
   },
   "file_extension": ".py",
   "mimetype": "text/x-python",
   "name": "python",
   "nbconvert_exporter": "python",
   "pygments_lexer": "ipython3",
   "version": "3.11.11"
  }
 },
 "nbformat": 4,
 "nbformat_minor": 2
}
