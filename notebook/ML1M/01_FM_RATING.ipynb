{
 "cells": [
  {
   "cell_type": "code",
   "execution_count": 1,
   "metadata": {},
   "outputs": [],
   "source": [
    "import optax\n",
    "import pandas as pd\n",
    "import polars as pl\n",
    "import jax\n",
    "import pickle\n",
    "from flax import nnx\n",
    "from flax_trainer.evaluator import RegressionEvaluator\n",
    "from flax_trainer.loader import MiniBatchLoader\n",
    "from flax_trainer.loss_fn import mean_squared_error\n",
    "from flax_trainer.trainer import Trainer\n",
    "from sklearn.model_selection import train_test_split\n",
    "\n",
    "from flax_recsys.model.FM import FM"
   ]
  },
  {
   "cell_type": "markdown",
   "metadata": {},
   "source": [
    "### READ"
   ]
  },
  {
   "cell_type": "code",
   "execution_count": 2,
   "metadata": {},
   "outputs": [
    {
     "data": {
      "text/html": [
       "<div><style>\n",
       ".dataframe > thead > tr,\n",
       ".dataframe > tbody > tr {\n",
       "  text-align: right;\n",
       "  white-space: pre-wrap;\n",
       "}\n",
       "</style>\n",
       "<small>shape: (1_000_209, 9)</small><table border=\"1\" class=\"dataframe\"><thead><tr><th>user_id</th><th>item_id</th><th>timestamp</th><th>title</th><th>gender</th><th>age</th><th>occupation</th><th>zip_code</th><th>rating</th></tr><tr><td>u32</td><td>u32</td><td>u32</td><td>u32</td><td>u32</td><td>u32</td><td>u32</td><td>u32</td><td>i64</td></tr></thead><tbody><tr><td>0</td><td>1104</td><td>397442</td><td>2452</td><td>0</td><td>0</td><td>10</td><td>1588</td><td>5</td></tr><tr><td>0</td><td>639</td><td>397457</td><td>1739</td><td>0</td><td>0</td><td>10</td><td>1588</td><td>3</td></tr><tr><td>0</td><td>853</td><td>397454</td><td>2289</td><td>0</td><td>0</td><td>10</td><td>1588</td><td>3</td></tr><tr><td>0</td><td>3177</td><td>397440</td><td>1054</td><td>0</td><td>0</td><td>10</td><td>1588</td><td>4</td></tr><tr><td>0</td><td>2162</td><td>400250</td><td>557</td><td>0</td><td>0</td><td>10</td><td>1588</td><td>5</td></tr><tr><td>&hellip;</td><td>&hellip;</td><td>&hellip;</td><td>&hellip;</td><td>&hellip;</td><td>&hellip;</td><td>&hellip;</td><td>&hellip;</td><td>&hellip;</td></tr><tr><td>6039</td><td>1019</td><td>382</td><td>3574</td><td>1</td><td>2</td><td>6</td><td>466</td><td>1</td></tr><tr><td>6039</td><td>1022</td><td>21</td><td>814</td><td>1</td><td>2</td><td>6</td><td>466</td><td>5</td></tr><tr><td>6039</td><td>548</td><td>17</td><td>3578</td><td>1</td><td>2</td><td>6</td><td>466</td><td>5</td></tr><tr><td>6039</td><td>1024</td><td>346</td><td>3090</td><td>1</td><td>2</td><td>6</td><td>466</td><td>4</td></tr><tr><td>6039</td><td>1025</td><td>343</td><td>1007</td><td>1</td><td>2</td><td>6</td><td>466</td><td>4</td></tr></tbody></table></div>"
      ],
      "text/plain": [
       "shape: (1_000_209, 9)\n",
       "┌─────────┬─────────┬───────────┬───────┬───┬─────┬────────────┬──────────┬────────┐\n",
       "│ user_id ┆ item_id ┆ timestamp ┆ title ┆ … ┆ age ┆ occupation ┆ zip_code ┆ rating │\n",
       "│ ---     ┆ ---     ┆ ---       ┆ ---   ┆   ┆ --- ┆ ---        ┆ ---      ┆ ---    │\n",
       "│ u32     ┆ u32     ┆ u32       ┆ u32   ┆   ┆ u32 ┆ u32        ┆ u32      ┆ i64    │\n",
       "╞═════════╪═════════╪═══════════╪═══════╪═══╪═════╪════════════╪══════════╪════════╡\n",
       "│ 0       ┆ 1104    ┆ 397442    ┆ 2452  ┆ … ┆ 0   ┆ 10         ┆ 1588     ┆ 5      │\n",
       "│ 0       ┆ 639     ┆ 397457    ┆ 1739  ┆ … ┆ 0   ┆ 10         ┆ 1588     ┆ 3      │\n",
       "│ 0       ┆ 853     ┆ 397454    ┆ 2289  ┆ … ┆ 0   ┆ 10         ┆ 1588     ┆ 3      │\n",
       "│ 0       ┆ 3177    ┆ 397440    ┆ 1054  ┆ … ┆ 0   ┆ 10         ┆ 1588     ┆ 4      │\n",
       "│ 0       ┆ 2162    ┆ 400250    ┆ 557   ┆ … ┆ 0   ┆ 10         ┆ 1588     ┆ 5      │\n",
       "│ …       ┆ …       ┆ …         ┆ …     ┆ … ┆ …   ┆ …          ┆ …        ┆ …      │\n",
       "│ 6039    ┆ 1019    ┆ 382       ┆ 3574  ┆ … ┆ 2   ┆ 6          ┆ 466      ┆ 1      │\n",
       "│ 6039    ┆ 1022    ┆ 21        ┆ 814   ┆ … ┆ 2   ┆ 6          ┆ 466      ┆ 5      │\n",
       "│ 6039    ┆ 548     ┆ 17        ┆ 3578  ┆ … ┆ 2   ┆ 6          ┆ 466      ┆ 5      │\n",
       "│ 6039    ┆ 1024    ┆ 346       ┆ 3090  ┆ … ┆ 2   ┆ 6          ┆ 466      ┆ 4      │\n",
       "│ 6039    ┆ 1025    ┆ 343       ┆ 1007  ┆ … ┆ 2   ┆ 6          ┆ 466      ┆ 4      │\n",
       "└─────────┴─────────┴───────────┴───────┴───┴─────┴────────────┴──────────┴────────┘"
      ]
     },
     "execution_count": 2,
     "metadata": {},
     "output_type": "execute_result"
    }
   ],
   "source": [
    "rating_df, movie_df, user_df = (\n",
    "    pl.from_pandas(\n",
    "        pd.read_csv(\n",
    "            \"../../dataset/ML1M/ml-1m/ratings.dat\",\n",
    "            delimiter=\"::\",\n",
    "            engine=\"python\",\n",
    "            header=None,\n",
    "            names=[\"user_id\", \"item_id\", \"rating\", \"timestamp\"],\n",
    "        )\n",
    "    ),\n",
    "    pl.from_pandas(\n",
    "        pd.read_csv(\n",
    "            \"../../dataset/ML1M/ml-1m/movies.dat\",\n",
    "            delimiter=\"::\",\n",
    "            engine=\"python\",\n",
    "            header=None,\n",
    "            names=[\"item_id\", \"title\", \"genres\"],\n",
    "            encoding=\"ISO-8859-1\",\n",
    "        )\n",
    "    ).with_columns(pl.col(\"genres\").str.split(\"|\")),\n",
    "    pl.from_pandas(\n",
    "        pd.read_csv(\n",
    "            \"../../dataset/ML1M/ml-1m/users.dat\",\n",
    "            delimiter=\"::\",\n",
    "            engine=\"python\",\n",
    "            header=None,\n",
    "            names=[\"user_id\", \"gender\", \"age\", \"occupation\", \"zip_code\"],\n",
    "            # encoding=\"ISO-8859-1\",\n",
    "        )\n",
    "    ),\n",
    ")\n",
    "\n",
    "dataset_df = (\n",
    "    rating_df.join(movie_df, how=\"left\", on=\"item_id\")\n",
    "    .join(user_df, how=\"left\", on=\"user_id\")\n",
    "    .select(pl.all().exclude(\"rating\", \"genres\"), pl.col(\"rating\"))\n",
    "    .with_columns(pl.all().exclude(\"rating\").rank(\"dense\") - 1)\n",
    ")\n",
    "\n",
    "user_categorical_feature_indices = [0, 4, 5, 6, 7]\n",
    "user_categorical_feature_cardinalities = [\n",
    "    dataset_df[:, idx].n_unique() for idx in user_categorical_feature_indices\n",
    "]\n",
    "user_numerical_feature_indices = []\n",
    "item_categorical_feature_indices = [1, 3]\n",
    "item_categorical_feature_cardinalities = [\n",
    "    dataset_df[:, idx].n_unique() for idx in item_categorical_feature_indices\n",
    "]\n",
    "item_numerical_feature_indices = []\n",
    "\n",
    "train_df, valid_df = train_test_split(\n",
    "    dataset_df, test_size=0.1, random_state=0, shuffle=True\n",
    ")\n",
    "dataset_df"
   ]
  },
  {
   "cell_type": "markdown",
   "metadata": {},
   "source": [
    "### 学習"
   ]
  },
  {
   "cell_type": "code",
   "execution_count": 3,
   "metadata": {},
   "outputs": [],
   "source": [
    "model = FM(\n",
    "    user_categorical_feature_indices=user_categorical_feature_indices,\n",
    "    user_categorical_feature_cardinalities=user_categorical_feature_cardinalities,\n",
    "    user_numerical_feature_indices=user_numerical_feature_indices,\n",
    "    item_categorical_feature_indices=item_categorical_feature_indices,\n",
    "    item_categorical_feature_cardinalities=item_categorical_feature_cardinalities,\n",
    "    item_numerical_feature_indices=item_numerical_feature_indices,\n",
    "    embed_dim=30,\n",
    "    rngs=nnx.Rngs(0),\n",
    ")"
   ]
  },
  {
   "cell_type": "code",
   "execution_count": 4,
   "metadata": {},
   "outputs": [
    {
     "name": "stdout",
     "output_type": "stream",
     "text": [
      "[TEST  000] loss=9.766195297241211\n"
     ]
    },
    {
     "name": "stderr",
     "output_type": "stream",
     "text": [
      "[TRAIN 001]: 100%|██████████| 1759/1759 [00:06<00:00, 293.12it/s, batch_loss=0.99465626]\n"
     ]
    },
    {
     "name": "stdout",
     "output_type": "stream",
     "text": [
      "[TEST  001] loss=0.9966132044792175\n"
     ]
    },
    {
     "name": "stderr",
     "output_type": "stream",
     "text": [
      "[TRAIN 002]: 100%|██████████| 1759/1759 [00:05<00:00, 310.50it/s, batch_loss=0.9755437] \n"
     ]
    },
    {
     "name": "stdout",
     "output_type": "stream",
     "text": [
      "[TEST  002] loss=0.9362316131591797\n"
     ]
    },
    {
     "name": "stderr",
     "output_type": "stream",
     "text": [
      "[TRAIN 003]: 100%|██████████| 1759/1759 [00:05<00:00, 324.44it/s, batch_loss=0.69498444]\n"
     ]
    },
    {
     "name": "stdout",
     "output_type": "stream",
     "text": [
      "[TEST  003] loss=0.9133365154266357\n"
     ]
    },
    {
     "name": "stderr",
     "output_type": "stream",
     "text": [
      "[TRAIN 004]: 100%|██████████| 1759/1759 [00:05<00:00, 332.51it/s, batch_loss=0.6130253] \n"
     ]
    },
    {
     "name": "stdout",
     "output_type": "stream",
     "text": [
      "[TEST  004] loss=0.8884686827659607\n"
     ]
    },
    {
     "name": "stderr",
     "output_type": "stream",
     "text": [
      "[TRAIN 005]: 100%|██████████| 1759/1759 [00:05<00:00, 315.73it/s, batch_loss=0.7619328] \n"
     ]
    },
    {
     "name": "stdout",
     "output_type": "stream",
     "text": [
      "[TEST  005] loss=0.8693138957023621\n"
     ]
    },
    {
     "name": "stderr",
     "output_type": "stream",
     "text": [
      "[TRAIN 006]: 100%|██████████| 1759/1759 [00:05<00:00, 335.37it/s, batch_loss=0.5505578] \n"
     ]
    },
    {
     "name": "stdout",
     "output_type": "stream",
     "text": [
      "[TEST  006] loss=0.853171169757843\n"
     ]
    },
    {
     "name": "stderr",
     "output_type": "stream",
     "text": [
      "[TRAIN 007]: 100%|██████████| 1759/1759 [00:05<00:00, 319.13it/s, batch_loss=0.66579396]\n"
     ]
    },
    {
     "name": "stdout",
     "output_type": "stream",
     "text": [
      "[TEST  007] loss=0.8479346632957458\n"
     ]
    },
    {
     "name": "stderr",
     "output_type": "stream",
     "text": [
      "[TRAIN 008]: 100%|██████████| 1759/1759 [00:05<00:00, 319.16it/s, batch_loss=0.9705479] \n"
     ]
    },
    {
     "name": "stdout",
     "output_type": "stream",
     "text": [
      "[TEST  008] loss=0.8462231755256653\n"
     ]
    },
    {
     "name": "stderr",
     "output_type": "stream",
     "text": [
      "[TRAIN 009]: 100%|██████████| 1759/1759 [00:06<00:00, 285.93it/s, batch_loss=0.599929]  \n"
     ]
    },
    {
     "name": "stdout",
     "output_type": "stream",
     "text": [
      "[TEST  009] loss=0.8461006283760071\n"
     ]
    },
    {
     "name": "stderr",
     "output_type": "stream",
     "text": [
      "[TRAIN 010]: 100%|██████████| 1759/1759 [00:05<00:00, 333.09it/s, batch_loss=0.6232314] \n"
     ]
    },
    {
     "name": "stdout",
     "output_type": "stream",
     "text": [
      "[TEST  010] loss=0.8494939804077148\n"
     ]
    },
    {
     "name": "stderr",
     "output_type": "stream",
     "text": [
      "[TRAIN 011]: 100%|██████████| 1759/1759 [00:05<00:00, 328.36it/s, batch_loss=0.69625044]\n"
     ]
    },
    {
     "name": "stdout",
     "output_type": "stream",
     "text": [
      "[TEST  011] loss=0.8531635999679565\n"
     ]
    },
    {
     "name": "stderr",
     "output_type": "stream",
     "text": [
      "[TRAIN 012]: 100%|██████████| 1759/1759 [00:05<00:00, 322.31it/s, batch_loss=0.5215558] \n"
     ]
    },
    {
     "name": "stdout",
     "output_type": "stream",
     "text": [
      "[TEST  012] loss=0.8549650311470032\n"
     ]
    },
    {
     "name": "stderr",
     "output_type": "stream",
     "text": [
      "[TRAIN 013]: 100%|██████████| 1759/1759 [00:05<00:00, 336.88it/s, batch_loss=0.67304456]\n"
     ]
    },
    {
     "name": "stdout",
     "output_type": "stream",
     "text": [
      "[TEST  013] loss=0.8598847389221191\n"
     ]
    },
    {
     "name": "stderr",
     "output_type": "stream",
     "text": [
      "[TRAIN 014]: 100%|██████████| 1759/1759 [00:05<00:00, 324.74it/s, batch_loss=0.5559666] \n"
     ]
    },
    {
     "name": "stdout",
     "output_type": "stream",
     "text": [
      "[TEST  014] loss=0.8595724701881409\n"
     ]
    },
    {
     "name": "stderr",
     "output_type": "stream",
     "text": [
      "[TRAIN 015]: 100%|██████████| 1759/1759 [00:05<00:00, 342.16it/s, batch_loss=0.3696676] \n"
     ]
    },
    {
     "name": "stdout",
     "output_type": "stream",
     "text": [
      "[TEST  015] loss=0.8666527271270752\n"
     ]
    },
    {
     "name": "stderr",
     "output_type": "stream",
     "text": [
      "[TRAIN 016]: 100%|██████████| 1759/1759 [00:05<00:00, 327.27it/s, batch_loss=0.7682887] \n"
     ]
    },
    {
     "name": "stdout",
     "output_type": "stream",
     "text": [
      "[TEST  016] loss=0.871368408203125\n"
     ]
    },
    {
     "name": "stderr",
     "output_type": "stream",
     "text": [
      "[TRAIN 017]: 100%|██████████| 1759/1759 [00:05<00:00, 310.20it/s, batch_loss=0.48974738]\n"
     ]
    },
    {
     "name": "stdout",
     "output_type": "stream",
     "text": [
      "[TEST  017] loss=0.8742348551750183\n"
     ]
    },
    {
     "name": "stderr",
     "output_type": "stream",
     "text": [
      "[TRAIN 018]: 100%|██████████| 1759/1759 [00:05<00:00, 314.25it/s, batch_loss=0.65188706]\n"
     ]
    },
    {
     "name": "stdout",
     "output_type": "stream",
     "text": [
      "[TEST  018] loss=0.880210816860199\n"
     ]
    },
    {
     "name": "stderr",
     "output_type": "stream",
     "text": [
      "[TRAIN 019]: 100%|██████████| 1759/1759 [00:05<00:00, 322.08it/s, batch_loss=0.48766622]\n"
     ]
    },
    {
     "name": "stdout",
     "output_type": "stream",
     "text": [
      "[TEST  019] loss=0.8831638693809509\n"
     ]
    }
   ],
   "source": [
    "loader = MiniBatchLoader(dataset_df=train_df, batch_size=512, rngs=nnx.Rngs(0))\n",
    "evaluator = RegressionEvaluator(dataset_df=valid_df)\n",
    "\n",
    "trainer = Trainer(\n",
    "    model=model,\n",
    "    optimizer=optax.adamw(learning_rate=0.001, weight_decay=0.001),\n",
    "    train_loader=loader,\n",
    "    loss_fn=mean_squared_error,\n",
    "    test_evaluator=evaluator,\n",
    "    early_stopping_patience=10,\n",
    "    epoch_num=64,\n",
    ")\n",
    "trainer = trainer.fit()"
   ]
  },
  {
   "cell_type": "code",
   "execution_count": 5,
   "metadata": {},
   "outputs": [],
   "source": [
    "with open('FM_RATING.pickle', 'wb') as f:\n",
    "    pickle.dump(jax.device_get(trainer.best_state_dict), f)"
   ]
  }
 ],
 "metadata": {
  "kernelspec": {
   "display_name": "flax-recsys-xS3fZVNL-py3.11",
   "language": "python",
   "name": "python3"
  },
  "language_info": {
   "codemirror_mode": {
    "name": "ipython",
    "version": 3
   },
   "file_extension": ".py",
   "mimetype": "text/x-python",
   "name": "python",
   "nbconvert_exporter": "python",
   "pygments_lexer": "ipython3",
   "version": "3.11.11"
  }
 },
 "nbformat": 4,
 "nbformat_minor": 2
}
